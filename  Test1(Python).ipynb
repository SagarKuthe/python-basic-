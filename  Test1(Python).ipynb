{
 "cells": [
  {
   "cell_type": "markdown",
   "id": "54a436c8",
   "metadata": {},
   "source": [
    "1.A\n",
    "2.A\n",
    "3.A\n",
    "4.B\n",
    "5.A\n",
    "6.A\n",
    "7.B\n",
    "8.A\n",
    "9.B\n",
    "10.D\n",
    "11.B\n",
    "12.B\n",
    "13.C\n",
    "14.B\n",
    "15.A\n",
    "16.B\n",
    "17.A\n",
    "18.B\n",
    "19.C\n",
    "20.B\n",
    "21.A\n",
    "22.B\n",
    "23.D\n",
    "24.A\n",
    "25.B\n",
    "26.B\n",
    "27.C\n",
    "\n"
   ]
  },
  {
   "cell_type": "code",
   "execution_count": null,
   "id": "e5763245",
   "metadata": {},
   "outputs": [],
   "source": [
    "employees = [\n",
    "    {\"id\": 101, \"name\": \"John\", \"salary\": 60000},\n",
    "    {\"id\": 103, \"name\": \"Alice\", \"salary\": 75000},\n",
    "    {\"id\": 102, \"name\": \"Bob\", \"salary\": 65000},\n",
    "    # Add more employee records here...\n",
    "]\n"
   ]
  },
  {
   "cell_type": "code",
   "execution_count": null,
   "id": "5a991d63",
   "metadata": {},
   "outputs": [],
   "source": []
  }
 ],
 "metadata": {
  "kernelspec": {
   "display_name": "Python 3 (ipykernel)",
   "language": "python",
   "name": "python3"
  },
  "language_info": {
   "codemirror_mode": {
    "name": "ipython",
    "version": 3
   },
   "file_extension": ".py",
   "mimetype": "text/x-python",
   "name": "python",
   "nbconvert_exporter": "python",
   "pygments_lexer": "ipython3",
   "version": "3.11.1"
  }
 },
 "nbformat": 4,
 "nbformat_minor": 5
}
